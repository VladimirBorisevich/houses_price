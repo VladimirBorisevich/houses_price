{
 "cells": [
  {
   "cell_type": "code",
   "execution_count": 3,
   "metadata": {},
   "outputs": [],
   "source": [
    "import pandas as pd\n",
    "import numpy as np\n",
    "import matplotlib.pyplot as plt\n",
    "import sklearn\n",
    "import time\n",
    "%matplotlib inline\n",
    "import tqdm"
   ]
  },
  {
   "cell_type": "code",
   "execution_count": 82,
   "metadata": {},
   "outputs": [],
   "source": [
    "from sklearn.model_selection import cross_val_score,train_test_split,GridSearchCV\n",
    "from sklearn.preprocessing import StandardScaler,OneHotEncoder\n",
    "from sklearn.pipeline import Pipeline\n",
    "from sklearn.decomposition import PCA\n",
    "from sklearn.compose import ColumnTransformer\n",
    "from sklearn.metrics import mean_squared_error\n",
    "from sklearn import feature_selection"
   ]
  },
  {
   "cell_type": "code",
   "execution_count": 84,
   "metadata": {},
   "outputs": [],
   "source": [
    "from sklearn.linear_model import LinearRegression,Ridge,Lasso,SGDRegressor,LogisticRegression,LassoCV\n",
    "from sklearn.ensemble import RandomForestRegressor,GradientBoostingRegressor\n",
    "from sklearn.tree import DecisionTreeRegressor\n",
    "from sklearn.neighbors import KNeighborsRegressor"
   ]
  },
  {
   "cell_type": "code",
   "execution_count": 6,
   "metadata": {},
   "outputs": [],
   "source": [
    "#func for writing prediction into csv file\n",
    "def write_sumb(name,prediction):\n",
    "    pd.DataFrame({'Id':range(1461,1461+1459),'SalePrice':prediction}).to_csv(name,index=False)"
   ]
  },
  {
   "cell_type": "code",
   "execution_count": 7,
   "metadata": {},
   "outputs": [],
   "source": [
    "train = pd.read_csv('train_clean.csv')\n",
    "test = pd.read_csv('test_clean.csv')"
   ]
  },
  {
   "cell_type": "code",
   "execution_count": 8,
   "metadata": {},
   "outputs": [],
   "source": [
    "y = train.SalePrice\n",
    "X = train.drop('SalePrice',axis=1)"
   ]
  },
  {
   "cell_type": "code",
   "execution_count": 9,
   "metadata": {},
   "outputs": [],
   "source": [
    "# preprocessing of columns(normalization for numeric and onehotencoding for categoric)\n",
    "categorical_features = np.where(X.dtypes=='object')[0]\n",
    "categorical_transformer = Pipeline(steps=[\n",
    "    ('onehot', OneHotEncoder(handle_unknown='ignore'))])\n",
    "\n",
    "numeric_features = np.where((X.dtypes=='int')|(X.dtypes=='float'))[0]\n",
    "numeric_transformer = Pipeline(steps=[\n",
    "    ('scaler', StandardScaler())])\n",
    "\n",
    "preprocessor = ColumnTransformer(\n",
    "    transformers=[\n",
    "        ('num', numeric_transformer, numeric_features),\n",
    "        ('cat', categorical_transformer, categorical_features)])"
   ]
  },
  {
   "cell_type": "code",
   "execution_count": 10,
   "metadata": {},
   "outputs": [],
   "source": [
    "X = preprocessor.fit_transform(X)\n",
    "test = preprocessor.transform(test)\n",
    "X = X.toarray()\n",
    "test = test.toarray()"
   ]
  },
  {
   "cell_type": "code",
   "execution_count": 88,
   "metadata": {},
   "outputs": [],
   "source": []
  },
  {
   "cell_type": "code",
   "execution_count": 89,
   "metadata": {},
   "outputs": [],
   "source": [
    "# Before grid search"
   ]
  },
  {
   "cell_type": "code",
   "execution_count": 11,
   "metadata": {},
   "outputs": [],
   "source": [
    "results = pd.DataFrame(columns = ['name','cross_val_score','time'])"
   ]
  },
  {
   "cell_type": "code",
   "execution_count": 17,
   "metadata": {},
   "outputs": [],
   "source": [
    "def evaluate_score(model,X=X,y=y):\n",
    "    ''' \n",
    "    Function counts cross-validation score, holdout (on test set) score, time (overall train + prediction) of model\n",
    "    Crossval score is rmse, cv = 3\n",
    "    \n",
    "    '''\n",
    "    time_before = time.time() \n",
    "    model_instance = model\n",
    "    cvs = np.int(np.sqrt(np.abs(cross_val_score(model,X,y,cv=5,\n",
    "                                                scoring='neg_mean_squared_error').mean())))\n",
    "    if cvs>1e11:\n",
    "        cvs = np.inf\n",
    "\n",
    "    time_after = time.time()\n",
    "    result = pd.DataFrame({'name':model.__class__.__name__,'cross_val_score':cvs,\n",
    "                           'time':time_after - time_before},index=[0])\n",
    "    #print(result)\n",
    "    return result"
   ]
  },
  {
   "cell_type": "code",
   "execution_count": 18,
   "metadata": {},
   "outputs": [],
   "source": [
    "regressors = [LinearRegression(),Ridge(random_state = 5),\n",
    "              Lasso(random_state=5),DecisionTreeRegressor(random_state=5),\n",
    "              SGDRegressor(random_state=5),GradientBoostingRegressor(random_state=5),\n",
    "              RandomForestRegressor(random_state=5),KNeighborsRegressor()]"
   ]
  },
  {
   "cell_type": "code",
   "execution_count": 19,
   "metadata": {},
   "outputs": [
    {
     "name": "stdout",
     "output_type": "stream",
     "text": [
      "LinearRegression()\n",
      "Ridge(random_state=5)\n",
      "Lasso(random_state=5)\n"
     ]
    },
    {
     "name": "stderr",
     "output_type": "stream",
     "text": [
      "/Users/borisevich.vd/venv/lib/python3.8/site-packages/sklearn/linear_model/_coordinate_descent.py:529: ConvergenceWarning: Objective did not converge. You might want to increase the number of iterations. Duality gap: 10570682462.487244, tolerance: 699031751.5199751\n",
      "  model = cd_fast.enet_coordinate_descent(\n",
      "/Users/borisevich.vd/venv/lib/python3.8/site-packages/sklearn/linear_model/_coordinate_descent.py:529: ConvergenceWarning: Objective did not converge. You might want to increase the number of iterations. Duality gap: 5013119352.130615, tolerance: 724930391.3116124\n",
      "  model = cd_fast.enet_coordinate_descent(\n"
     ]
    },
    {
     "name": "stdout",
     "output_type": "stream",
     "text": [
      "DecisionTreeRegressor(random_state=5)\n",
      "SGDRegressor(random_state=5)\n",
      "GradientBoostingRegressor(random_state=5)\n",
      "RandomForestRegressor(random_state=5)\n",
      "KNeighborsRegressor()\n"
     ]
    }
   ],
   "source": [
    "for regressor in regressors:\n",
    "    results = results.append(evaluate_score(regressor))"
   ]
  },
  {
   "cell_type": "code",
   "execution_count": 20,
   "metadata": {},
   "outputs": [
    {
     "data": {
      "text/html": [
       "<div>\n",
       "<style scoped>\n",
       "    .dataframe tbody tr th:only-of-type {\n",
       "        vertical-align: middle;\n",
       "    }\n",
       "\n",
       "    .dataframe tbody tr th {\n",
       "        vertical-align: top;\n",
       "    }\n",
       "\n",
       "    .dataframe thead th {\n",
       "        text-align: right;\n",
       "    }\n",
       "</style>\n",
       "<table border=\"1\" class=\"dataframe\">\n",
       "  <thead>\n",
       "    <tr style=\"text-align: right;\">\n",
       "      <th></th>\n",
       "      <th>name</th>\n",
       "      <th>cross_val_score</th>\n",
       "      <th>time</th>\n",
       "    </tr>\n",
       "  </thead>\n",
       "  <tbody>\n",
       "    <tr>\n",
       "      <th>0</th>\n",
       "      <td>GradientBoostingRegressor</td>\n",
       "      <td>27197.0</td>\n",
       "      <td>3.309788</td>\n",
       "    </tr>\n",
       "    <tr>\n",
       "      <th>0</th>\n",
       "      <td>RandomForestRegressor</td>\n",
       "      <td>30296.0</td>\n",
       "      <td>9.351306</td>\n",
       "    </tr>\n",
       "    <tr>\n",
       "      <th>0</th>\n",
       "      <td>Ridge</td>\n",
       "      <td>32709.0</td>\n",
       "      <td>0.029294</td>\n",
       "    </tr>\n",
       "    <tr>\n",
       "      <th>0</th>\n",
       "      <td>SGDRegressor</td>\n",
       "      <td>32729.0</td>\n",
       "      <td>0.118549</td>\n",
       "    </tr>\n",
       "    <tr>\n",
       "      <th>0</th>\n",
       "      <td>Lasso</td>\n",
       "      <td>34294.0</td>\n",
       "      <td>0.849146</td>\n",
       "    </tr>\n",
       "    <tr>\n",
       "      <th>0</th>\n",
       "      <td>KNeighborsRegressor</td>\n",
       "      <td>38502.0</td>\n",
       "      <td>0.734101</td>\n",
       "    </tr>\n",
       "    <tr>\n",
       "      <th>0</th>\n",
       "      <td>DecisionTreeRegressor</td>\n",
       "      <td>44027.0</td>\n",
       "      <td>0.207611</td>\n",
       "    </tr>\n",
       "    <tr>\n",
       "      <th>0</th>\n",
       "      <td>LinearRegression</td>\n",
       "      <td>inf</td>\n",
       "      <td>0.134527</td>\n",
       "    </tr>\n",
       "  </tbody>\n",
       "</table>\n",
       "</div>"
      ],
      "text/plain": [
       "                        name  cross_val_score      time\n",
       "0  GradientBoostingRegressor          27197.0  3.309788\n",
       "0      RandomForestRegressor          30296.0  9.351306\n",
       "0                      Ridge          32709.0  0.029294\n",
       "0               SGDRegressor          32729.0  0.118549\n",
       "0                      Lasso          34294.0  0.849146\n",
       "0        KNeighborsRegressor          38502.0  0.734101\n",
       "0      DecisionTreeRegressor          44027.0  0.207611\n",
       "0           LinearRegression              inf  0.134527"
      ]
     },
     "execution_count": 20,
     "metadata": {},
     "output_type": "execute_result"
    }
   ],
   "source": [
    "results.sort_values(by='cross_val_score')"
   ]
  },
  {
   "cell_type": "code",
   "execution_count": null,
   "metadata": {},
   "outputs": [],
   "source": []
  },
  {
   "cell_type": "code",
   "execution_count": 72,
   "metadata": {},
   "outputs": [],
   "source": [
    "# after grid search"
   ]
  },
  {
   "cell_type": "code",
   "execution_count": 62,
   "metadata": {},
   "outputs": [],
   "source": [
    "results_grid = pd.DataFrame(columns = ['name','cross_val_score','time'])"
   ]
  },
  {
   "cell_type": "code",
   "execution_count": 63,
   "metadata": {},
   "outputs": [],
   "source": [
    "def evaluate_score_grid(model,params,X=X,y=y):\n",
    "    ''' Gridsearch for different models'''\n",
    "    name = model.__class__.__name__\n",
    "    time_before = time.time() \n",
    "    model_instance = GridSearchCV(model,params,cv=5,scoring='neg_mean_squared_error').fit(X,y)\n",
    "    cvs = np.int(np.sqrt(np.abs(model_instance.best_score_)))\n",
    "    print(model,model_instance.best_params_)\n",
    "    if cvs>1e10:\n",
    "        cvs=np.inf\n",
    "    time_after = time.time()\n",
    "    result = pd.DataFrame({'name':name,'cross_val_score':cvs,\n",
    "                           'time':time_after - time_before},index=[0])\n",
    "    #print(result)\n",
    "    return result"
   ]
  },
  {
   "cell_type": "code",
   "execution_count": 64,
   "metadata": {},
   "outputs": [],
   "source": [
    "regressors = [LinearRegression(),Ridge(),\n",
    "              Lasso(),DecisionTreeRegressor(),\n",
    "              SGDRegressor(),GradientBoostingRegressor(),\n",
    "              RandomForestRegressor(),KNeighborsRegressor()]"
   ]
  },
  {
   "cell_type": "code",
   "execution_count": 66,
   "metadata": {},
   "outputs": [],
   "source": [
    "linear_params = {\n",
    "    'fit_intercept':[True,False]\n",
    "}\n",
    "ridge_params = {\n",
    "    'alpha':[1,1.5,2,5,10,100,200,500,1000],\n",
    "    'max_iter':[1000,2000],\n",
    "    'random_state':[5]\n",
    "}\n",
    "lasso_params = {\n",
    "    'alpha':[1,1.5,2,5,10,100,200,500,1000],\n",
    "    'max_iter':[1000,2000],\n",
    "    'random_state':[5]\n",
    "}\n",
    "tree_params = {\n",
    "    'max_depth':[3,5,8,10,15],\n",
    "    'min_samples_leaf':[1,2,5,10],\n",
    "    'random_state':[5]   \n",
    "}\n",
    "SGDRegressor_params = {\n",
    "    'penalty':['l2','l1','elasticnet'],\n",
    "    'max_iter':[1000,2000,5000],\n",
    "    'learning_rate':['invscaling','optimal'],\n",
    "    'random_state':[5]\n",
    "}\n",
    "GradientBoostingRegressor_params = {\n",
    "    'learning_rate':[0.01,0.05,0.1],\n",
    "    'n_estimators':[500,1000,2000],\n",
    "    'random_state':[5]\n",
    "}\n",
    "RandomForestRegressor_params = {\n",
    "    'n_estimators':[500,1000,2000],\n",
    "    'max_depth':[5,10,None],\n",
    "    'random_state':[5]\n",
    "}\n",
    "KNeighborsRegressor_params = {\n",
    "    'n_neighbors':[3,5,7,9],\n",
    "    'weights':['uniform','distance'],\n",
    "    'algorithm':['ball_tree','kd_tree','brute']\n",
    "}\n",
    "params = [linear_params,ridge_params,lasso_params,tree_params,\n",
    "          SGDRegressor_params,GradientBoostingRegressor_params,\n",
    "          RandomForestRegressor_params,KNeighborsRegressor_params]"
   ]
  },
  {
   "cell_type": "code",
   "execution_count": 67,
   "metadata": {},
   "outputs": [
    {
     "name": "stdout",
     "output_type": "stream",
     "text": [
      "LinearRegression() {'fit_intercept': True}\n",
      "Ridge() {'alpha': 10, 'max_iter': 1000, 'random_state': 5}\n"
     ]
    },
    {
     "name": "stderr",
     "output_type": "stream",
     "text": [
      "/Users/borisevich.vd/venv/lib/python3.8/site-packages/sklearn/linear_model/_coordinate_descent.py:529: ConvergenceWarning: Objective did not converge. You might want to increase the number of iterations. Duality gap: 10570682462.487244, tolerance: 699031751.5199751\n",
      "  model = cd_fast.enet_coordinate_descent(\n",
      "/Users/borisevich.vd/venv/lib/python3.8/site-packages/sklearn/linear_model/_coordinate_descent.py:529: ConvergenceWarning: Objective did not converge. You might want to increase the number of iterations. Duality gap: 5013119352.130615, tolerance: 724930391.3116124\n",
      "  model = cd_fast.enet_coordinate_descent(\n",
      "/Users/borisevich.vd/venv/lib/python3.8/site-packages/sklearn/linear_model/_coordinate_descent.py:529: ConvergenceWarning: Objective did not converge. You might want to increase the number of iterations. Duality gap: 5739126118.564514, tolerance: 699031751.5199751\n",
      "  model = cd_fast.enet_coordinate_descent(\n"
     ]
    },
    {
     "name": "stdout",
     "output_type": "stream",
     "text": [
      "Lasso() {'alpha': 200, 'max_iter': 1000, 'random_state': 5}\n",
      "DecisionTreeRegressor() {'max_depth': 15, 'min_samples_leaf': 10, 'random_state': 5}\n",
      "SGDRegressor() {'learning_rate': 'invscaling', 'max_iter': 1000, 'penalty': 'l2', 'random_state': 5}\n",
      "GradientBoostingRegressor() {'learning_rate': 0.01, 'n_estimators': 2000, 'random_state': 5}\n",
      "RandomForestRegressor() {'max_depth': None, 'n_estimators': 2000, 'random_state': 5}\n",
      "KNeighborsRegressor() {'algorithm': 'ball_tree', 'n_neighbors': 9, 'weights': 'distance'}\n",
      "CPU times: user 20min 47s, sys: 18.1 s, total: 21min 6s\n",
      "Wall time: 20min 4s\n"
     ]
    }
   ],
   "source": [
    "%%time\n",
    "for i,regressor in enumerate(regressors):\n",
    "    results_grid = results_grid.append(evaluate_score_grid(regressor,params=params[i]))"
   ]
  },
  {
   "cell_type": "code",
   "execution_count": 68,
   "metadata": {},
   "outputs": [
    {
     "data": {
      "text/html": [
       "<div>\n",
       "<style scoped>\n",
       "    .dataframe tbody tr th:only-of-type {\n",
       "        vertical-align: middle;\n",
       "    }\n",
       "\n",
       "    .dataframe tbody tr th {\n",
       "        vertical-align: top;\n",
       "    }\n",
       "\n",
       "    .dataframe thead th {\n",
       "        text-align: right;\n",
       "    }\n",
       "</style>\n",
       "<table border=\"1\" class=\"dataframe\">\n",
       "  <thead>\n",
       "    <tr style=\"text-align: right;\">\n",
       "      <th></th>\n",
       "      <th>name</th>\n",
       "      <th>cross_val_score</th>\n",
       "      <th>time</th>\n",
       "    </tr>\n",
       "  </thead>\n",
       "  <tbody>\n",
       "    <tr>\n",
       "      <th>0</th>\n",
       "      <td>GradientBoostingRegressor</td>\n",
       "      <td>25751.0</td>\n",
       "      <td>376.955190</td>\n",
       "    </tr>\n",
       "    <tr>\n",
       "      <th>0</th>\n",
       "      <td>RandomForestRegressor</td>\n",
       "      <td>29973.0</td>\n",
       "      <td>793.839336</td>\n",
       "    </tr>\n",
       "    <tr>\n",
       "      <th>0</th>\n",
       "      <td>Lasso</td>\n",
       "      <td>31184.0</td>\n",
       "      <td>6.699830</td>\n",
       "    </tr>\n",
       "    <tr>\n",
       "      <th>0</th>\n",
       "      <td>Ridge</td>\n",
       "      <td>31939.0</td>\n",
       "      <td>0.522141</td>\n",
       "    </tr>\n",
       "    <tr>\n",
       "      <th>0</th>\n",
       "      <td>SGDRegressor</td>\n",
       "      <td>32729.0</td>\n",
       "      <td>13.204332</td>\n",
       "    </tr>\n",
       "    <tr>\n",
       "      <th>0</th>\n",
       "      <td>KNeighborsRegressor</td>\n",
       "      <td>37107.0</td>\n",
       "      <td>10.920441</td>\n",
       "    </tr>\n",
       "    <tr>\n",
       "      <th>0</th>\n",
       "      <td>DecisionTreeRegressor</td>\n",
       "      <td>38377.0</td>\n",
       "      <td>1.735675</td>\n",
       "    </tr>\n",
       "    <tr>\n",
       "      <th>0</th>\n",
       "      <td>LinearRegression</td>\n",
       "      <td>inf</td>\n",
       "      <td>0.276734</td>\n",
       "    </tr>\n",
       "  </tbody>\n",
       "</table>\n",
       "</div>"
      ],
      "text/plain": [
       "                        name  cross_val_score        time\n",
       "0  GradientBoostingRegressor          25751.0  376.955190\n",
       "0      RandomForestRegressor          29973.0  793.839336\n",
       "0                      Lasso          31184.0    6.699830\n",
       "0                      Ridge          31939.0    0.522141\n",
       "0               SGDRegressor          32729.0   13.204332\n",
       "0        KNeighborsRegressor          37107.0   10.920441\n",
       "0      DecisionTreeRegressor          38377.0    1.735675\n",
       "0           LinearRegression              inf    0.276734"
      ]
     },
     "execution_count": 68,
     "metadata": {},
     "output_type": "execute_result"
    }
   ],
   "source": [
    "results_grid.sort_values(by='cross_val_score')"
   ]
  },
  {
   "cell_type": "code",
   "execution_count": 71,
   "metadata": {},
   "outputs": [],
   "source": [
    "regressors_opt = [LinearRegression(),Ridge(alpha=10,max_iter=1000,random_state=5),\n",
    "                  Lasso(alpha=200,max_iter=1000,random_state=5),\n",
    "                  DecisionTreeRegressor(max_depth=15,min_samples_leaf=10,random_state=5),\n",
    "                  SGDRegressor(max_iter=1000,penalty='l2',learning_rate='invscaling',random_state=5),\n",
    "                  GradientBoostingRegressor(learning_rate=0.01,n_estimators=2000,random_state=5),\n",
    "                  RandomForestRegressor(max_depth=None,n_estimators=2000,random_state=5),\n",
    "                  KNeighborsRegressor(algorithm='ball_tree',n_neighbors=9,weights='distance')]"
   ]
  },
  {
   "cell_type": "code",
   "execution_count": null,
   "metadata": {},
   "outputs": [],
   "source": [
    "# After PCA(0.95 explained variance) preparaion"
   ]
  },
  {
   "cell_type": "code",
   "execution_count": 73,
   "metadata": {},
   "outputs": [],
   "source": [
    "pca = PCA(n_components = 0.95)\n",
    "X_pca = pca.fit_transform(X)\n",
    "test_pca = pca.transform(test)"
   ]
  },
  {
   "cell_type": "code",
   "execution_count": 74,
   "metadata": {},
   "outputs": [],
   "source": [
    "results_pca = pd.DataFrame(columns = ['name','cross_val_score','time'])"
   ]
  },
  {
   "cell_type": "code",
   "execution_count": 77,
   "metadata": {},
   "outputs": [],
   "source": [
    "for regressor in regressors_opt:\n",
    "    results_pca = results_pca.append(evaluate_score(regressor,X_pca,y))"
   ]
  },
  {
   "cell_type": "code",
   "execution_count": 78,
   "metadata": {},
   "outputs": [
    {
     "data": {
      "text/html": [
       "<div>\n",
       "<style scoped>\n",
       "    .dataframe tbody tr th:only-of-type {\n",
       "        vertical-align: middle;\n",
       "    }\n",
       "\n",
       "    .dataframe tbody tr th {\n",
       "        vertical-align: top;\n",
       "    }\n",
       "\n",
       "    .dataframe thead th {\n",
       "        text-align: right;\n",
       "    }\n",
       "</style>\n",
       "<table border=\"1\" class=\"dataframe\">\n",
       "  <thead>\n",
       "    <tr style=\"text-align: right;\">\n",
       "      <th></th>\n",
       "      <th>name</th>\n",
       "      <th>cross_val_score</th>\n",
       "      <th>time</th>\n",
       "    </tr>\n",
       "  </thead>\n",
       "  <tbody>\n",
       "    <tr>\n",
       "      <th>0</th>\n",
       "      <td>GradientBoostingRegressor</td>\n",
       "      <td>27147</td>\n",
       "      <td>175.260688</td>\n",
       "    </tr>\n",
       "    <tr>\n",
       "      <th>0</th>\n",
       "      <td>RandomForestRegressor</td>\n",
       "      <td>30180</td>\n",
       "      <td>331.036387</td>\n",
       "    </tr>\n",
       "    <tr>\n",
       "      <th>0</th>\n",
       "      <td>Lasso</td>\n",
       "      <td>33820</td>\n",
       "      <td>0.013977</td>\n",
       "    </tr>\n",
       "    <tr>\n",
       "      <th>0</th>\n",
       "      <td>Ridge</td>\n",
       "      <td>33876</td>\n",
       "      <td>0.015198</td>\n",
       "    </tr>\n",
       "    <tr>\n",
       "      <th>0</th>\n",
       "      <td>LinearRegression</td>\n",
       "      <td>34003</td>\n",
       "      <td>0.044546</td>\n",
       "    </tr>\n",
       "    <tr>\n",
       "      <th>0</th>\n",
       "      <td>SGDRegressor</td>\n",
       "      <td>35000</td>\n",
       "      <td>0.028135</td>\n",
       "    </tr>\n",
       "    <tr>\n",
       "      <th>0</th>\n",
       "      <td>DecisionTreeRegressor</td>\n",
       "      <td>36488</td>\n",
       "      <td>0.227472</td>\n",
       "    </tr>\n",
       "    <tr>\n",
       "      <th>0</th>\n",
       "      <td>KNeighborsRegressor</td>\n",
       "      <td>36860</td>\n",
       "      <td>0.137128</td>\n",
       "    </tr>\n",
       "  </tbody>\n",
       "</table>\n",
       "</div>"
      ],
      "text/plain": [
       "                        name cross_val_score        time\n",
       "0  GradientBoostingRegressor           27147  175.260688\n",
       "0      RandomForestRegressor           30180  331.036387\n",
       "0                      Lasso           33820    0.013977\n",
       "0                      Ridge           33876    0.015198\n",
       "0           LinearRegression           34003    0.044546\n",
       "0               SGDRegressor           35000    0.028135\n",
       "0      DecisionTreeRegressor           36488    0.227472\n",
       "0        KNeighborsRegressor           36860    0.137128"
      ]
     },
     "execution_count": 78,
     "metadata": {},
     "output_type": "execute_result"
    }
   ],
   "source": [
    "results_pca.sort_values(by='cross_val_score')"
   ]
  },
  {
   "cell_type": "code",
   "execution_count": null,
   "metadata": {},
   "outputs": [],
   "source": []
  },
  {
   "cell_type": "code",
   "execution_count": 483,
   "metadata": {},
   "outputs": [],
   "source": [
    "# Feature selection \n",
    "# Selection from LassoCV model"
   ]
  },
  {
   "cell_type": "code",
   "execution_count": 79,
   "metadata": {},
   "outputs": [],
   "source": [
    "results_feat_select = pd.DataFrame(columns = ['name','cross_val_score','time'])"
   ]
  },
  {
   "cell_type": "code",
   "execution_count": 85,
   "metadata": {},
   "outputs": [],
   "source": [
    "selector = feature_selection.SelectFromModel(LassoCV(cv=5,random_state=5)).fit(X,y)\n",
    "X_selected = selector.transform(X)\n",
    "test_selected = selector.transform(test)"
   ]
  },
  {
   "cell_type": "code",
   "execution_count": 89,
   "metadata": {},
   "outputs": [
    {
     "data": {
      "text/plain": [
       "182"
      ]
     },
     "execution_count": 89,
     "metadata": {},
     "output_type": "execute_result"
    }
   ],
   "source": [
    "X.shape[1] - X_selected.shape[1] # amount of columns were dropped (overall 270)"
   ]
  },
  {
   "cell_type": "code",
   "execution_count": 90,
   "metadata": {},
   "outputs": [],
   "source": [
    "for regressor in regressors_opt:\n",
    "    results_feat_select = results_feat_select.append(evaluate_score(regressor,X_selected,y))"
   ]
  },
  {
   "cell_type": "code",
   "execution_count": 91,
   "metadata": {},
   "outputs": [
    {
     "data": {
      "text/html": [
       "<div>\n",
       "<style scoped>\n",
       "    .dataframe tbody tr th:only-of-type {\n",
       "        vertical-align: middle;\n",
       "    }\n",
       "\n",
       "    .dataframe tbody tr th {\n",
       "        vertical-align: top;\n",
       "    }\n",
       "\n",
       "    .dataframe thead th {\n",
       "        text-align: right;\n",
       "    }\n",
       "</style>\n",
       "<table border=\"1\" class=\"dataframe\">\n",
       "  <thead>\n",
       "    <tr style=\"text-align: right;\">\n",
       "      <th></th>\n",
       "      <th>name</th>\n",
       "      <th>cross_val_score</th>\n",
       "      <th>time</th>\n",
       "    </tr>\n",
       "  </thead>\n",
       "  <tbody>\n",
       "    <tr>\n",
       "      <th>0</th>\n",
       "      <td>GradientBoostingRegressor</td>\n",
       "      <td>25248</td>\n",
       "      <td>36.009543</td>\n",
       "    </tr>\n",
       "    <tr>\n",
       "      <th>0</th>\n",
       "      <td>RandomForestRegressor</td>\n",
       "      <td>29685</td>\n",
       "      <td>109.843615</td>\n",
       "    </tr>\n",
       "    <tr>\n",
       "      <th>0</th>\n",
       "      <td>Ridge</td>\n",
       "      <td>30567</td>\n",
       "      <td>0.015499</td>\n",
       "    </tr>\n",
       "    <tr>\n",
       "      <th>0</th>\n",
       "      <td>Lasso</td>\n",
       "      <td>30969</td>\n",
       "      <td>0.038176</td>\n",
       "    </tr>\n",
       "    <tr>\n",
       "      <th>0</th>\n",
       "      <td>LinearRegression</td>\n",
       "      <td>31621</td>\n",
       "      <td>0.043807</td>\n",
       "    </tr>\n",
       "    <tr>\n",
       "      <th>0</th>\n",
       "      <td>SGDRegressor</td>\n",
       "      <td>32420</td>\n",
       "      <td>0.052163</td>\n",
       "    </tr>\n",
       "    <tr>\n",
       "      <th>0</th>\n",
       "      <td>KNeighborsRegressor</td>\n",
       "      <td>36971</td>\n",
       "      <td>0.164373</td>\n",
       "    </tr>\n",
       "    <tr>\n",
       "      <th>0</th>\n",
       "      <td>DecisionTreeRegressor</td>\n",
       "      <td>37740</td>\n",
       "      <td>0.062827</td>\n",
       "    </tr>\n",
       "  </tbody>\n",
       "</table>\n",
       "</div>"
      ],
      "text/plain": [
       "                        name cross_val_score        time\n",
       "0  GradientBoostingRegressor           25248   36.009543\n",
       "0      RandomForestRegressor           29685  109.843615\n",
       "0                      Ridge           30567    0.015499\n",
       "0                      Lasso           30969    0.038176\n",
       "0           LinearRegression           31621    0.043807\n",
       "0               SGDRegressor           32420    0.052163\n",
       "0        KNeighborsRegressor           36971    0.164373\n",
       "0      DecisionTreeRegressor           37740    0.062827"
      ]
     },
     "execution_count": 91,
     "metadata": {},
     "output_type": "execute_result"
    }
   ],
   "source": [
    "results_feat_select.sort_values(by='cross_val_score')"
   ]
  },
  {
   "cell_type": "code",
   "execution_count": null,
   "metadata": {},
   "outputs": [],
   "source": []
  },
  {
   "cell_type": "code",
   "execution_count": 117,
   "metadata": {},
   "outputs": [],
   "source": [
    "res = pd.merge(results, results_grid, how='left', left_on='name', right_on='name', suffixes=('', '_grid'))\n",
    "res = pd.merge(res, results_pca, how='left', left_on='name', right_on='name', suffixes=('', '_pca'))\n",
    "res = res = pd.merge(res, results_feat_select, how='left', left_on='name', right_on='name', suffixes=('', '_sel'))"
   ]
  },
  {
   "cell_type": "code",
   "execution_count": 160,
   "metadata": {},
   "outputs": [
    {
     "data": {
      "text/html": [
       "<div>\n",
       "<style scoped>\n",
       "    .dataframe tbody tr th:only-of-type {\n",
       "        vertical-align: middle;\n",
       "    }\n",
       "\n",
       "    .dataframe tbody tr th {\n",
       "        vertical-align: top;\n",
       "    }\n",
       "\n",
       "    .dataframe thead th {\n",
       "        text-align: right;\n",
       "    }\n",
       "</style>\n",
       "<table border=\"1\" class=\"dataframe\">\n",
       "  <thead>\n",
       "    <tr style=\"text-align: right;\">\n",
       "      <th></th>\n",
       "      <th>name</th>\n",
       "      <th>cross_val_score</th>\n",
       "      <th>time</th>\n",
       "      <th>cross_val_score_grid</th>\n",
       "      <th>time_grid</th>\n",
       "      <th>cross_val_score_pca</th>\n",
       "      <th>time_pca</th>\n",
       "      <th>cross_val_score_sel</th>\n",
       "      <th>time_sel</th>\n",
       "    </tr>\n",
       "  </thead>\n",
       "  <tbody>\n",
       "    <tr>\n",
       "      <th>0</th>\n",
       "      <td>LinearRegression</td>\n",
       "      <td>inf</td>\n",
       "      <td>0.134527</td>\n",
       "      <td>inf</td>\n",
       "      <td>0.276734</td>\n",
       "      <td>34003</td>\n",
       "      <td>0.044546</td>\n",
       "      <td>31621</td>\n",
       "      <td>0.043807</td>\n",
       "    </tr>\n",
       "    <tr>\n",
       "      <th>1</th>\n",
       "      <td>Ridge</td>\n",
       "      <td>32709.0</td>\n",
       "      <td>0.029294</td>\n",
       "      <td>31939.0</td>\n",
       "      <td>0.522141</td>\n",
       "      <td>33876</td>\n",
       "      <td>0.015198</td>\n",
       "      <td>30567</td>\n",
       "      <td>0.015499</td>\n",
       "    </tr>\n",
       "    <tr>\n",
       "      <th>2</th>\n",
       "      <td>Lasso</td>\n",
       "      <td>34294.0</td>\n",
       "      <td>0.849146</td>\n",
       "      <td>31184.0</td>\n",
       "      <td>6.699830</td>\n",
       "      <td>33820</td>\n",
       "      <td>0.013977</td>\n",
       "      <td>30969</td>\n",
       "      <td>0.038176</td>\n",
       "    </tr>\n",
       "    <tr>\n",
       "      <th>3</th>\n",
       "      <td>DecisionTreeRegressor</td>\n",
       "      <td>44027.0</td>\n",
       "      <td>0.207611</td>\n",
       "      <td>38377.0</td>\n",
       "      <td>1.735675</td>\n",
       "      <td>36488</td>\n",
       "      <td>0.227472</td>\n",
       "      <td>37740</td>\n",
       "      <td>0.062827</td>\n",
       "    </tr>\n",
       "    <tr>\n",
       "      <th>4</th>\n",
       "      <td>SGDRegressor</td>\n",
       "      <td>32729.0</td>\n",
       "      <td>0.118549</td>\n",
       "      <td>32729.0</td>\n",
       "      <td>13.204332</td>\n",
       "      <td>35000</td>\n",
       "      <td>0.028135</td>\n",
       "      <td>32420</td>\n",
       "      <td>0.052163</td>\n",
       "    </tr>\n",
       "    <tr>\n",
       "      <th>5</th>\n",
       "      <td>GradientBoostingRegressor</td>\n",
       "      <td>27197.0</td>\n",
       "      <td>3.309788</td>\n",
       "      <td>25751.0</td>\n",
       "      <td>376.955190</td>\n",
       "      <td>27147</td>\n",
       "      <td>175.260688</td>\n",
       "      <td>25248</td>\n",
       "      <td>36.009543</td>\n",
       "    </tr>\n",
       "    <tr>\n",
       "      <th>6</th>\n",
       "      <td>RandomForestRegressor</td>\n",
       "      <td>30296.0</td>\n",
       "      <td>9.351306</td>\n",
       "      <td>29973.0</td>\n",
       "      <td>793.839336</td>\n",
       "      <td>30180</td>\n",
       "      <td>331.036387</td>\n",
       "      <td>29685</td>\n",
       "      <td>109.843615</td>\n",
       "    </tr>\n",
       "    <tr>\n",
       "      <th>7</th>\n",
       "      <td>KNeighborsRegressor</td>\n",
       "      <td>38502.0</td>\n",
       "      <td>0.734101</td>\n",
       "      <td>37107.0</td>\n",
       "      <td>10.920441</td>\n",
       "      <td>36860</td>\n",
       "      <td>0.137128</td>\n",
       "      <td>36971</td>\n",
       "      <td>0.164373</td>\n",
       "    </tr>\n",
       "  </tbody>\n",
       "</table>\n",
       "</div>"
      ],
      "text/plain": [
       "                        name  cross_val_score      time  cross_val_score_grid  \\\n",
       "0           LinearRegression              inf  0.134527                   inf   \n",
       "1                      Ridge          32709.0  0.029294               31939.0   \n",
       "2                      Lasso          34294.0  0.849146               31184.0   \n",
       "3      DecisionTreeRegressor          44027.0  0.207611               38377.0   \n",
       "4               SGDRegressor          32729.0  0.118549               32729.0   \n",
       "5  GradientBoostingRegressor          27197.0  3.309788               25751.0   \n",
       "6      RandomForestRegressor          30296.0  9.351306               29973.0   \n",
       "7        KNeighborsRegressor          38502.0  0.734101               37107.0   \n",
       "\n",
       "    time_grid cross_val_score_pca    time_pca cross_val_score_sel    time_sel  \n",
       "0    0.276734               34003    0.044546               31621    0.043807  \n",
       "1    0.522141               33876    0.015198               30567    0.015499  \n",
       "2    6.699830               33820    0.013977               30969    0.038176  \n",
       "3    1.735675               36488    0.227472               37740    0.062827  \n",
       "4   13.204332               35000    0.028135               32420    0.052163  \n",
       "5  376.955190               27147  175.260688               25248   36.009543  \n",
       "6  793.839336               30180  331.036387               29685  109.843615  \n",
       "7   10.920441               36860    0.137128               36971    0.164373  "
      ]
     },
     "execution_count": 160,
     "metadata": {},
     "output_type": "execute_result"
    }
   ],
   "source": [
    "res"
   ]
  },
  {
   "cell_type": "code",
   "execution_count": 156,
   "metadata": {},
   "outputs": [],
   "source": [
    "process = ['base','grid','pca','selection']\n",
    "labels = res.loc[:,'name']"
   ]
  },
  {
   "cell_type": "code",
   "execution_count": 159,
   "metadata": {},
   "outputs": [
    {
     "data": {
      "image/png": "[encoded data removed]",
      "text/plain": [
       "<Figure size 864x576 with 1 Axes>"
      ]
     },
     "metadata": {
      "needs_background": "light"
     },
     "output_type": "display_data"
    }
   ],
   "source": [
    "plt.figure(figsize=(12,8))\n",
    "for i in range(res.shape[0]):\n",
    "    res.loc[i,score_names].plot()\n",
    "plt.legend(labels)\n",
    "plt.ylabel('Rmse')\n",
    "plt.title(\"Improvment regressor's score\")\n",
    "plt.xticks(ticks = np.arange(4),labels=process);"
   ]
  },
  {
   "cell_type": "code",
   "execution_count": null,
   "metadata": {},
   "outputs": [],
   "source": []
  },
  {
   "cell_type": "code",
   "execution_count": null,
   "metadata": {},
   "outputs": [],
   "source": []
  },
  {
   "cell_type": "code",
   "execution_count": null,
   "metadata": {},
   "outputs": [],
   "source": []
  }
 ],
 "metadata": {
  "kernelspec": {
   "display_name": "Python 3",
   "language": "python",
   "name": "python3"
  },
  "language_info": {
   "codemirror_mode": {
    "name": "ipython",
    "version": 3
   },
   "file_extension": ".py",
   "mimetype": "text/x-python",
   "name": "python",
   "nbconvert_exporter": "python",
   "pygments_lexer": "ipython3",
   "version": "3.8.2"
  }
 },
 "nbformat": 4,
 "nbformat_minor": 4
}
