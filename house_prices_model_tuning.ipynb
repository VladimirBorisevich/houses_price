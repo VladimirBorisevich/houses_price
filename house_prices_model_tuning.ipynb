{
 "cells": [
  {
   "cell_type": "markdown",
   "metadata": {},
   "source": [
    "# Part 2 : Tuning model's hyperparameters"
   ]
  },
  {
   "cell_type": "markdown",
   "metadata": {},
   "source": [
    "### Loading libraries"
   ]
  },
  {
   "cell_type": "code",
   "execution_count": 36,
   "metadata": {},
   "outputs": [],
   "source": [
    "import pandas as pd\n",
    "import numpy as np\n",
    "import matplotlib.pyplot as plt\n",
    "import sklearn\n",
    "import time\n",
    "%matplotlib inline"
   ]
  },
  {
   "cell_type": "code",
   "execution_count": 37,
   "metadata": {},
   "outputs": [],
   "source": [
    "from sklearn.model_selection import cross_val_score,train_test_split,GridSearchCV\n",
    "from sklearn.preprocessing import StandardScaler,OneHotEncoder\n",
    "from sklearn.pipeline import Pipeline\n",
    "from sklearn.decomposition import PCA\n",
    "from sklearn.compose import ColumnTransformer\n",
    "from sklearn.metrics import mean_squared_error\n",
    "from sklearn import feature_selection"
   ]
  },
  {
   "cell_type": "code",
   "execution_count": 38,
   "metadata": {},
   "outputs": [],
   "source": [
    "from sklearn.linear_model import LinearRegression,Ridge,Lasso,SGDRegressor,LogisticRegression,LassoCV\n",
    "from sklearn.ensemble import RandomForestRegressor,GradientBoostingRegressor\n",
    "from sklearn.tree import DecisionTreeRegressor\n",
    "from sklearn.neighbors import KNeighborsRegressor"
   ]
  },
  {
   "cell_type": "code",
   "execution_count": 39,
   "metadata": {},
   "outputs": [],
   "source": [
    "#func for writing prediction into csv file\n",
    "def write_sumb(name,prediction):\n",
    "    pd.DataFrame({'Id':range(1461,1461+1459),'SalePrice':prediction}).to_csv(name,index=False)"
   ]
  },
  {
   "cell_type": "markdown",
   "metadata": {},
   "source": [
    "### Loading dataset with filled nan's"
   ]
  },
  {
   "cell_type": "code",
   "execution_count": 40,
   "metadata": {},
   "outputs": [],
   "source": [
    "train = pd.read_csv('train_clean.csv')\n",
    "test = pd.read_csv('test_clean.csv')\n",
    "y = train.SalePrice\n",
    "X = train.drop('SalePrice',axis=1)"
   ]
  },
  {
   "cell_type": "code",
   "execution_count": 41,
   "metadata": {},
   "outputs": [],
   "source": [
    "numeric = np.where((X.dtypes=='int')|(X.dtypes=='float'))[0]\n",
    "feat_to_drop = ['3SsnPorch',\n",
    " 'MoSold',\n",
    " 'GarageArea',\n",
    " 'LowQualFinSF',\n",
    " 'YrSold',\n",
    " 'MiscVal',\n",
    " 'OpenPorchSF',\n",
    " 'BsmtHalfBath',\n",
    " 'BsmtFinSF2',\n",
    " 'MSSubClass',\n",
    " 'BsmtUnfSF']\n",
    "feats = set(X.columns[numeric]).intersection(set(feat_to_drop))\n",
    "X.drop(feats, axis=1, inplace=True)\n",
    "test.drop(feats, axis=1, inplace=True)"
   ]
  },
  {
   "cell_type": "code",
   "execution_count": 42,
   "metadata": {},
   "outputs": [],
   "source": [
    "# preprocessing of columns(normalization for numeric and onehotencoding for categoric)\n",
    "categorical_features = np.where(X.dtypes=='object')[0]\n",
    "categorical_transformer = Pipeline(steps=[\n",
    "    ('onehot', OneHotEncoder(handle_unknown='ignore'))])\n",
    "\n",
    "numeric_features = np.where((X.dtypes=='int')|(X.dtypes=='float'))[0]\n",
    "numeric_transformer = Pipeline(steps=[\n",
    "    ('scaler', StandardScaler())])\n",
    "\n",
    "preprocessor = ColumnTransformer(\n",
    "    transformers=[\n",
    "        ('num', numeric_transformer, numeric_features),\n",
    "        ('cat', categorical_transformer, categorical_features)])"
   ]
  },
  {
   "cell_type": "code",
   "execution_count": 43,
   "metadata": {},
   "outputs": [],
   "source": [
    "X = preprocessor.fit_transform(X)\n",
    "test = preprocessor.transform(test)\n",
    "X = X.toarray()\n",
    "test = test.toarray()"
   ]
  },
  {
   "cell_type": "code",
   "execution_count": 44,
   "metadata": {},
   "outputs": [],
   "source": [
    "# Checking cross-validation score on different algorithms"
   ]
  },
  {
   "cell_type": "code",
   "execution_count": 86,
   "metadata": {},
   "outputs": [],
   "source": [
    "results = pd.DataFrame(columns = ['name','cross_val_score','time'])"
   ]
  },
  {
   "cell_type": "code",
   "execution_count": 87,
   "metadata": {},
   "outputs": [],
   "source": [
    "def evaluate_score(model,X=X,y=y):\n",
    "    ''' \n",
    "    Function counts cross-validation score, holdout (on test set) score, time (overall train + prediction) of model\n",
    "    Crossval score is rmse, cv = 3\n",
    "    \n",
    "    '''\n",
    "    time_before = time.time() \n",
    "    model_instance = model\n",
    "    cvs = np.int(np.abs(cross_val_score(model,X,y,cv=5,scoring='neg_root_mean_squared_error').mean()))\n",
    "    if cvs>1e11:\n",
    "        cvs = np.inf\n",
    "\n",
    "    time_after = time.time()\n",
    "    result = pd.DataFrame({'name':model.__class__.__name__,'cross_val_score':cvs,\n",
    "                           'time':time_after - time_before},index=[0])\n",
    "    return result"
   ]
  },
  {
   "cell_type": "code",
   "execution_count": 88,
   "metadata": {},
   "outputs": [],
   "source": [
    "#tree models : DecisionTreeRegressor, RandomForestRegressor, GradientBoostingRegressor\n",
    "#distance models : KNeighborsRegressor\n",
    "#linear models : LinearRegression, Ridge, Lasso, SGDRegressor\n",
    "regressors = [Ridge(random_state = 5),\n",
    "              Lasso(random_state=5),DecisionTreeRegressor(random_state=5),\n",
    "              SGDRegressor(random_state=5),GradientBoostingRegressor(random_state=5),\n",
    "              RandomForestRegressor(random_state=5),KNeighborsRegressor()]"
   ]
  },
  {
   "cell_type": "code",
   "execution_count": 89,
   "metadata": {},
   "outputs": [
    {
     "name": "stderr",
     "output_type": "stream",
     "text": [
      "/Users/borisevich.vd/venv/lib/python3.8/site-packages/sklearn/linear_model/_coordinate_descent.py:529: ConvergenceWarning: Objective did not converge. You might want to increase the number of iterations. Duality gap: 10711557766.213501, tolerance: 699031751.5199751\n",
      "  model = cd_fast.enet_coordinate_descent(\n"
     ]
    }
   ],
   "source": [
    "for regressor in regressors:\n",
    "    results = results.append(evaluate_score(regressor))"
   ]
  },
  {
   "cell_type": "code",
   "execution_count": 94,
   "metadata": {},
   "outputs": [
    {
     "data": {
      "text/html": [
       "<div>\n",
       "<style scoped>\n",
       "    .dataframe tbody tr th:only-of-type {\n",
       "        vertical-align: middle;\n",
       "    }\n",
       "\n",
       "    .dataframe tbody tr th {\n",
       "        vertical-align: top;\n",
       "    }\n",
       "\n",
       "    .dataframe thead th {\n",
       "        text-align: right;\n",
       "    }\n",
       "</style>\n",
       "<table border=\"1\" class=\"dataframe\">\n",
       "  <thead>\n",
       "    <tr style=\"text-align: right;\">\n",
       "      <th></th>\n",
       "      <th>name</th>\n",
       "      <th>cross_val_score</th>\n",
       "      <th>time</th>\n",
       "    </tr>\n",
       "  </thead>\n",
       "  <tbody>\n",
       "    <tr>\n",
       "      <th>0</th>\n",
       "      <td>GradientBoostingRegressor</td>\n",
       "      <td>25944</td>\n",
       "      <td>2.975489</td>\n",
       "    </tr>\n",
       "    <tr>\n",
       "      <th>0</th>\n",
       "      <td>RandomForestRegressor</td>\n",
       "      <td>29487</td>\n",
       "      <td>8.324287</td>\n",
       "    </tr>\n",
       "    <tr>\n",
       "      <th>0</th>\n",
       "      <td>Ridge</td>\n",
       "      <td>31438</td>\n",
       "      <td>0.045692</td>\n",
       "    </tr>\n",
       "    <tr>\n",
       "      <th>0</th>\n",
       "      <td>SGDRegressor</td>\n",
       "      <td>31603</td>\n",
       "      <td>0.106361</td>\n",
       "    </tr>\n",
       "    <tr>\n",
       "      <th>0</th>\n",
       "      <td>Lasso</td>\n",
       "      <td>33008</td>\n",
       "      <td>0.728157</td>\n",
       "    </tr>\n",
       "    <tr>\n",
       "      <th>0</th>\n",
       "      <td>KNeighborsRegressor</td>\n",
       "      <td>36794</td>\n",
       "      <td>0.632640</td>\n",
       "    </tr>\n",
       "    <tr>\n",
       "      <th>0</th>\n",
       "      <td>DecisionTreeRegressor</td>\n",
       "      <td>39192</td>\n",
       "      <td>0.186683</td>\n",
       "    </tr>\n",
       "  </tbody>\n",
       "</table>\n",
       "</div>"
      ],
      "text/plain": [
       "                        name  cross_val_score      time\n",
       "0  GradientBoostingRegressor            25944  2.975489\n",
       "0      RandomForestRegressor            29487  8.324287\n",
       "0                      Ridge            31438  0.045692\n",
       "0               SGDRegressor            31603  0.106361\n",
       "0                      Lasso            33008  0.728157\n",
       "0        KNeighborsRegressor            36794  0.632640\n",
       "0      DecisionTreeRegressor            39192  0.186683"
      ]
     },
     "execution_count": 94,
     "metadata": {},
     "output_type": "execute_result"
    }
   ],
   "source": [
    "results.cross_val_score = results.cross_val_score.apply(np.int)\n",
    "results.sort_values(by='cross_val_score')"
   ]
  },
  {
   "cell_type": "code",
   "execution_count": 72,
   "metadata": {},
   "outputs": [],
   "source": [
    "# Grid search for regressors\n",
    "# Searching for optimal hyperparameters"
   ]
  },
  {
   "cell_type": "code",
   "execution_count": 95,
   "metadata": {},
   "outputs": [],
   "source": [
    "results_grid = pd.DataFrame(columns = ['name','cross_val_score','time'])"
   ]
  },
  {
   "cell_type": "code",
   "execution_count": 97,
   "metadata": {},
   "outputs": [],
   "source": [
    "def evaluate_score_grid(model,params,X=X,y=y):\n",
    "    ''' Gridsearch for different models'''\n",
    "    name = model.__class__.__name__\n",
    "    time_before = time.time() \n",
    "    model_instance = GridSearchCV(model,params,cv=5,scoring='neg_root_mean_squared_error').fit(X,y)\n",
    "    cvs = np.int(np.abs(model_instance.best_score_))\n",
    "    print(model,model_instance.best_params_)\n",
    "    if cvs>1e10:\n",
    "        cvs=np.inf\n",
    "    time_after = time.time()\n",
    "    result = pd.DataFrame({'name':name,'cross_val_score':cvs,\n",
    "                           'time':time_after - time_before},index=[0])\n",
    "    return result"
   ]
  },
  {
   "cell_type": "code",
   "execution_count": 102,
   "metadata": {},
   "outputs": [],
   "source": [
    "regressors = [Ridge(),Lasso(),DecisionTreeRegressor(),\n",
    "              SGDRegressor(),GradientBoostingRegressor(),\n",
    "              RandomForestRegressor(),KNeighborsRegressor()]"
   ]
  },
  {
   "cell_type": "code",
   "execution_count": 103,
   "metadata": {},
   "outputs": [],
   "source": [
    "ridge_params = {\n",
    "    'alpha':[1,1.5,2,5,10,100,200,500,1000],\n",
    "    'max_iter':[1000,2000],\n",
    "    'random_state':[5]\n",
    "}\n",
    "lasso_params = {\n",
    "    'alpha':[1,1.5,2,5,10,100,200,500,1000],\n",
    "    'max_iter':[1000,2000],\n",
    "    'random_state':[5]\n",
    "}\n",
    "tree_params = {\n",
    "    'max_depth':[3,5,8,10,15],\n",
    "    'min_samples_leaf':[1,2,5,10],\n",
    "    'random_state':[5]   \n",
    "}\n",
    "SGDRegressor_params = {\n",
    "    'penalty':['l2','l1','elasticnet'],\n",
    "    'max_iter':[1000,2000,5000],\n",
    "    'learning_rate':['invscaling','optimal'],\n",
    "    'random_state':[5]\n",
    "}\n",
    "GradientBoostingRegressor_params = {\n",
    "    'learning_rate':[0.01,0.05,0.1],\n",
    "    'n_estimators':[500,1000,2000],\n",
    "    'random_state':[5]\n",
    "}\n",
    "RandomForestRegressor_params = {\n",
    "    'n_estimators':[500,1000,2000],\n",
    "    'max_depth':[5,10,None],\n",
    "    'random_state':[5]\n",
    "}\n",
    "KNeighborsRegressor_params = {\n",
    "    'n_neighbors':[3,5,7,9],\n",
    "    'weights':['uniform','distance'],\n",
    "    'algorithm':['ball_tree','kd_tree','brute']\n",
    "}\n",
    "params = [ridge_params,lasso_params,tree_params,\n",
    "          SGDRegressor_params,GradientBoostingRegressor_params,\n",
    "          RandomForestRegressor_params,KNeighborsRegressor_params]"
   ]
  },
  {
   "cell_type": "code",
   "execution_count": 104,
   "metadata": {},
   "outputs": [
    {
     "name": "stdout",
     "output_type": "stream",
     "text": [
      "Ridge() {'alpha': 10, 'max_iter': 1000, 'random_state': 5}\n"
     ]
    },
    {
     "name": "stderr",
     "output_type": "stream",
     "text": [
      "/Users/borisevich.vd/venv/lib/python3.8/site-packages/sklearn/linear_model/_coordinate_descent.py:529: ConvergenceWarning: Objective did not converge. You might want to increase the number of iterations. Duality gap: 10711557766.213501, tolerance: 699031751.5199751\n",
      "  model = cd_fast.enet_coordinate_descent(\n"
     ]
    },
    {
     "name": "stdout",
     "output_type": "stream",
     "text": [
      "Lasso() {'alpha': 200, 'max_iter': 1000, 'random_state': 5}\n",
      "DecisionTreeRegressor() {'max_depth': 10, 'min_samples_leaf': 10, 'random_state': 5}\n",
      "SGDRegressor() {'learning_rate': 'invscaling', 'max_iter': 1000, 'penalty': 'l2', 'random_state': 5}\n",
      "GradientBoostingRegressor() {'learning_rate': 0.1, 'n_estimators': 500, 'random_state': 5}\n",
      "RandomForestRegressor() {'max_depth': None, 'n_estimators': 2000, 'random_state': 5}\n",
      "KNeighborsRegressor() {'algorithm': 'brute', 'n_neighbors': 9, 'weights': 'distance'}\n",
      "CPU times: user 17min 33s, sys: 12.3 s, total: 17min 46s\n",
      "Wall time: 17min 11s\n"
     ]
    }
   ],
   "source": [
    "%%time\n",
    "for i,regressor in enumerate(regressors):\n",
    "    results_grid = results_grid.append(evaluate_score_grid(regressor,params=params[i]))"
   ]
  },
  {
   "cell_type": "code",
   "execution_count": 105,
   "metadata": {},
   "outputs": [
    {
     "data": {
      "text/html": [
       "<div>\n",
       "<style scoped>\n",
       "    .dataframe tbody tr th:only-of-type {\n",
       "        vertical-align: middle;\n",
       "    }\n",
       "\n",
       "    .dataframe tbody tr th {\n",
       "        vertical-align: top;\n",
       "    }\n",
       "\n",
       "    .dataframe thead th {\n",
       "        text-align: right;\n",
       "    }\n",
       "</style>\n",
       "<table border=\"1\" class=\"dataframe\">\n",
       "  <thead>\n",
       "    <tr style=\"text-align: right;\">\n",
       "      <th></th>\n",
       "      <th>name</th>\n",
       "      <th>cross_val_score</th>\n",
       "      <th>time</th>\n",
       "    </tr>\n",
       "  </thead>\n",
       "  <tbody>\n",
       "    <tr>\n",
       "      <th>0</th>\n",
       "      <td>GradientBoostingRegressor</td>\n",
       "      <td>25064</td>\n",
       "      <td>335.857267</td>\n",
       "    </tr>\n",
       "    <tr>\n",
       "      <th>0</th>\n",
       "      <td>RandomForestRegressor</td>\n",
       "      <td>29022</td>\n",
       "      <td>664.894766</td>\n",
       "    </tr>\n",
       "    <tr>\n",
       "      <th>0</th>\n",
       "      <td>Lasso</td>\n",
       "      <td>29985</td>\n",
       "      <td>5.788689</td>\n",
       "    </tr>\n",
       "    <tr>\n",
       "      <th>0</th>\n",
       "      <td>Ridge</td>\n",
       "      <td>30726</td>\n",
       "      <td>0.557386</td>\n",
       "    </tr>\n",
       "    <tr>\n",
       "      <th>0</th>\n",
       "      <td>SGDRegressor</td>\n",
       "      <td>31603</td>\n",
       "      <td>13.044799</td>\n",
       "    </tr>\n",
       "    <tr>\n",
       "      <th>0</th>\n",
       "      <td>KNeighborsRegressor</td>\n",
       "      <td>34645</td>\n",
       "      <td>9.598487</td>\n",
       "    </tr>\n",
       "    <tr>\n",
       "      <th>0</th>\n",
       "      <td>DecisionTreeRegressor</td>\n",
       "      <td>37262</td>\n",
       "      <td>1.501167</td>\n",
       "    </tr>\n",
       "  </tbody>\n",
       "</table>\n",
       "</div>"
      ],
      "text/plain": [
       "                        name cross_val_score        time\n",
       "0  GradientBoostingRegressor           25064  335.857267\n",
       "0      RandomForestRegressor           29022  664.894766\n",
       "0                      Lasso           29985    5.788689\n",
       "0                      Ridge           30726    0.557386\n",
       "0               SGDRegressor           31603   13.044799\n",
       "0        KNeighborsRegressor           34645    9.598487\n",
       "0      DecisionTreeRegressor           37262    1.501167"
      ]
     },
     "execution_count": 105,
     "metadata": {},
     "output_type": "execute_result"
    }
   ],
   "source": [
    "#results_grid.cross_val_score = results_grid.cross_val_score.apply(np.int)\n",
    "results_grid.sort_values(by='cross_val_score')"
   ]
  },
  {
   "cell_type": "code",
   "execution_count": 107,
   "metadata": {},
   "outputs": [],
   "source": [
    "# regressors with best parameters\n",
    "regressors_opt = [LinearRegression(),Ridge(alpha=10,max_iter=1000,random_state=5),\n",
    "                  Lasso(alpha=200,max_iter=1000,random_state=5),\n",
    "                  DecisionTreeRegressor(max_depth=15,min_samples_leaf=10,random_state=5),\n",
    "                  SGDRegressor(max_iter=1000,penalty='l2',learning_rate='invscaling',random_state=5),\n",
    "                  GradientBoostingRegressor(learning_rate=0.01,n_estimators=2000,random_state=5),\n",
    "                  RandomForestRegressor(max_depth=None,n_estimators=2000,random_state=5),\n",
    "                  KNeighborsRegressor(algorithm='ball_tree',n_neighbors=9,weights='distance')]"
   ]
  },
  {
   "cell_type": "markdown",
   "metadata": {},
   "source": [
    "## Reducing dimension with PCA(0.95 explained variance) "
   ]
  },
  {
   "cell_type": "code",
   "execution_count": 108,
   "metadata": {},
   "outputs": [],
   "source": [
    "pca = PCA(n_components = 0.95)\n",
    "X_pca = pca.fit_transform(X)\n",
    "test_pca = pca.transform(test)"
   ]
  },
  {
   "cell_type": "code",
   "execution_count": 109,
   "metadata": {},
   "outputs": [],
   "source": [
    "results_pca = pd.DataFrame(columns = ['name','cross_val_score','time'])"
   ]
  },
  {
   "cell_type": "code",
   "execution_count": 110,
   "metadata": {},
   "outputs": [],
   "source": [
    "for regressor in regressors_opt:\n",
    "    results_pca = results_pca.append(evaluate_score(regressor,X_pca,y))"
   ]
  },
  {
   "cell_type": "code",
   "execution_count": 111,
   "metadata": {},
   "outputs": [
    {
     "data": {
      "text/html": [
       "<div>\n",
       "<style scoped>\n",
       "    .dataframe tbody tr th:only-of-type {\n",
       "        vertical-align: middle;\n",
       "    }\n",
       "\n",
       "    .dataframe tbody tr th {\n",
       "        vertical-align: top;\n",
       "    }\n",
       "\n",
       "    .dataframe thead th {\n",
       "        text-align: right;\n",
       "    }\n",
       "</style>\n",
       "<table border=\"1\" class=\"dataframe\">\n",
       "  <thead>\n",
       "    <tr style=\"text-align: right;\">\n",
       "      <th></th>\n",
       "      <th>name</th>\n",
       "      <th>cross_val_score</th>\n",
       "      <th>time</th>\n",
       "    </tr>\n",
       "  </thead>\n",
       "  <tbody>\n",
       "    <tr>\n",
       "      <th>0</th>\n",
       "      <td>GradientBoostingRegressor</td>\n",
       "      <td>27613</td>\n",
       "      <td>171.106915</td>\n",
       "    </tr>\n",
       "    <tr>\n",
       "      <th>0</th>\n",
       "      <td>RandomForestRegressor</td>\n",
       "      <td>29318</td>\n",
       "      <td>321.897328</td>\n",
       "    </tr>\n",
       "    <tr>\n",
       "      <th>0</th>\n",
       "      <td>Lasso</td>\n",
       "      <td>32201</td>\n",
       "      <td>0.017895</td>\n",
       "    </tr>\n",
       "    <tr>\n",
       "      <th>0</th>\n",
       "      <td>Ridge</td>\n",
       "      <td>32229</td>\n",
       "      <td>0.016664</td>\n",
       "    </tr>\n",
       "    <tr>\n",
       "      <th>0</th>\n",
       "      <td>LinearRegression</td>\n",
       "      <td>32392</td>\n",
       "      <td>0.041692</td>\n",
       "    </tr>\n",
       "    <tr>\n",
       "      <th>0</th>\n",
       "      <td>SGDRegressor</td>\n",
       "      <td>32694</td>\n",
       "      <td>0.029505</td>\n",
       "    </tr>\n",
       "    <tr>\n",
       "      <th>0</th>\n",
       "      <td>KNeighborsRegressor</td>\n",
       "      <td>34606</td>\n",
       "      <td>0.135799</td>\n",
       "    </tr>\n",
       "    <tr>\n",
       "      <th>0</th>\n",
       "      <td>DecisionTreeRegressor</td>\n",
       "      <td>36461</td>\n",
       "      <td>0.218796</td>\n",
       "    </tr>\n",
       "  </tbody>\n",
       "</table>\n",
       "</div>"
      ],
      "text/plain": [
       "                        name cross_val_score        time\n",
       "0  GradientBoostingRegressor           27613  171.106915\n",
       "0      RandomForestRegressor           29318  321.897328\n",
       "0                      Lasso           32201    0.017895\n",
       "0                      Ridge           32229    0.016664\n",
       "0           LinearRegression           32392    0.041692\n",
       "0               SGDRegressor           32694    0.029505\n",
       "0        KNeighborsRegressor           34606    0.135799\n",
       "0      DecisionTreeRegressor           36461    0.218796"
      ]
     },
     "execution_count": 111,
     "metadata": {},
     "output_type": "execute_result"
    }
   ],
   "source": [
    "results_pca.sort_values(by='cross_val_score')"
   ]
  },
  {
   "cell_type": "markdown",
   "metadata": {},
   "source": [
    "## Feature selection \n",
    "### Selection with LassoCV model"
   ]
  },
  {
   "cell_type": "code",
   "execution_count": 112,
   "metadata": {},
   "outputs": [],
   "source": [
    "results_feat_select = pd.DataFrame(columns = ['name','cross_val_score','time'])"
   ]
  },
  {
   "cell_type": "code",
   "execution_count": 113,
   "metadata": {},
   "outputs": [],
   "source": [
    "selector = feature_selection.SelectFromModel(LassoCV(cv=5,random_state=5)).fit(X,y)\n",
    "X_selected = selector.transform(X)\n",
    "test_selected = selector.transform(test)"
   ]
  },
  {
   "cell_type": "code",
   "execution_count": 114,
   "metadata": {},
   "outputs": [
    {
     "data": {
      "text/plain": [
       "176"
      ]
     },
     "execution_count": 114,
     "metadata": {},
     "output_type": "execute_result"
    }
   ],
   "source": [
    "X.shape[1] - X_selected.shape[1] # amount of columns were dropped (overall 270 columns)"
   ]
  },
  {
   "cell_type": "code",
   "execution_count": 115,
   "metadata": {},
   "outputs": [],
   "source": [
    "for regressor in regressors_opt:\n",
    "    results_feat_select = results_feat_select.append(evaluate_score(regressor,X_selected,y))"
   ]
  },
  {
   "cell_type": "code",
   "execution_count": 116,
   "metadata": {},
   "outputs": [
    {
     "data": {
      "text/html": [
       "<div>\n",
       "<style scoped>\n",
       "    .dataframe tbody tr th:only-of-type {\n",
       "        vertical-align: middle;\n",
       "    }\n",
       "\n",
       "    .dataframe tbody tr th {\n",
       "        vertical-align: top;\n",
       "    }\n",
       "\n",
       "    .dataframe thead th {\n",
       "        text-align: right;\n",
       "    }\n",
       "</style>\n",
       "<table border=\"1\" class=\"dataframe\">\n",
       "  <thead>\n",
       "    <tr style=\"text-align: right;\">\n",
       "      <th></th>\n",
       "      <th>name</th>\n",
       "      <th>cross_val_score</th>\n",
       "      <th>time</th>\n",
       "    </tr>\n",
       "  </thead>\n",
       "  <tbody>\n",
       "    <tr>\n",
       "      <th>0</th>\n",
       "      <td>GradientBoostingRegressor</td>\n",
       "      <td>24705.0</td>\n",
       "      <td>33.705348</td>\n",
       "    </tr>\n",
       "    <tr>\n",
       "      <th>0</th>\n",
       "      <td>RandomForestRegressor</td>\n",
       "      <td>28794.0</td>\n",
       "      <td>99.421176</td>\n",
       "    </tr>\n",
       "    <tr>\n",
       "      <th>0</th>\n",
       "      <td>Ridge</td>\n",
       "      <td>29433.0</td>\n",
       "      <td>0.014298</td>\n",
       "    </tr>\n",
       "    <tr>\n",
       "      <th>0</th>\n",
       "      <td>Lasso</td>\n",
       "      <td>29850.0</td>\n",
       "      <td>0.079406</td>\n",
       "    </tr>\n",
       "    <tr>\n",
       "      <th>0</th>\n",
       "      <td>SGDRegressor</td>\n",
       "      <td>31587.0</td>\n",
       "      <td>0.051708</td>\n",
       "    </tr>\n",
       "    <tr>\n",
       "      <th>0</th>\n",
       "      <td>KNeighborsRegressor</td>\n",
       "      <td>34415.0</td>\n",
       "      <td>0.157633</td>\n",
       "    </tr>\n",
       "    <tr>\n",
       "      <th>0</th>\n",
       "      <td>DecisionTreeRegressor</td>\n",
       "      <td>37243.0</td>\n",
       "      <td>0.059794</td>\n",
       "    </tr>\n",
       "    <tr>\n",
       "      <th>0</th>\n",
       "      <td>LinearRegression</td>\n",
       "      <td>inf</td>\n",
       "      <td>0.045076</td>\n",
       "    </tr>\n",
       "  </tbody>\n",
       "</table>\n",
       "</div>"
      ],
      "text/plain": [
       "                        name  cross_val_score       time\n",
       "0  GradientBoostingRegressor          24705.0  33.705348\n",
       "0      RandomForestRegressor          28794.0  99.421176\n",
       "0                      Ridge          29433.0   0.014298\n",
       "0                      Lasso          29850.0   0.079406\n",
       "0               SGDRegressor          31587.0   0.051708\n",
       "0        KNeighborsRegressor          34415.0   0.157633\n",
       "0      DecisionTreeRegressor          37243.0   0.059794\n",
       "0           LinearRegression              inf   0.045076"
      ]
     },
     "execution_count": 116,
     "metadata": {},
     "output_type": "execute_result"
    }
   ],
   "source": [
    "results_feat_select.sort_values(by='cross_val_score')"
   ]
  },
  {
   "cell_type": "markdown",
   "metadata": {},
   "source": [
    "## Merging all results"
   ]
  },
  {
   "cell_type": "code",
   "execution_count": 117,
   "metadata": {},
   "outputs": [],
   "source": [
    "res = pd.merge(results, results_grid, how='left', left_on='name', right_on='name', suffixes=('', '_grid'))\n",
    "res = pd.merge(res, results_pca, how='left', left_on='name', right_on='name', suffixes=('', '_pca'))\n",
    "res = res = pd.merge(res, results_feat_select, how='left', left_on='name', right_on='name', suffixes=('', '_sel'))"
   ]
  },
  {
   "cell_type": "code",
   "execution_count": 118,
   "metadata": {},
   "outputs": [
    {
     "data": {
      "text/html": [
       "<div>\n",
       "<style scoped>\n",
       "    .dataframe tbody tr th:only-of-type {\n",
       "        vertical-align: middle;\n",
       "    }\n",
       "\n",
       "    .dataframe tbody tr th {\n",
       "        vertical-align: top;\n",
       "    }\n",
       "\n",
       "    .dataframe thead th {\n",
       "        text-align: right;\n",
       "    }\n",
       "</style>\n",
       "<table border=\"1\" class=\"dataframe\">\n",
       "  <thead>\n",
       "    <tr style=\"text-align: right;\">\n",
       "      <th></th>\n",
       "      <th>name</th>\n",
       "      <th>cross_val_score</th>\n",
       "      <th>time</th>\n",
       "      <th>cross_val_score_grid</th>\n",
       "      <th>time_grid</th>\n",
       "      <th>cross_val_score_pca</th>\n",
       "      <th>time_pca</th>\n",
       "      <th>cross_val_score_sel</th>\n",
       "      <th>time_sel</th>\n",
       "    </tr>\n",
       "  </thead>\n",
       "  <tbody>\n",
       "    <tr>\n",
       "      <th>0</th>\n",
       "      <td>Ridge</td>\n",
       "      <td>31438</td>\n",
       "      <td>0.045692</td>\n",
       "      <td>30726</td>\n",
       "      <td>0.557386</td>\n",
       "      <td>32229</td>\n",
       "      <td>0.016664</td>\n",
       "      <td>29433.0</td>\n",
       "      <td>0.014298</td>\n",
       "    </tr>\n",
       "    <tr>\n",
       "      <th>1</th>\n",
       "      <td>Lasso</td>\n",
       "      <td>33008</td>\n",
       "      <td>0.728157</td>\n",
       "      <td>29985</td>\n",
       "      <td>5.788689</td>\n",
       "      <td>32201</td>\n",
       "      <td>0.017895</td>\n",
       "      <td>29850.0</td>\n",
       "      <td>0.079406</td>\n",
       "    </tr>\n",
       "    <tr>\n",
       "      <th>2</th>\n",
       "      <td>DecisionTreeRegressor</td>\n",
       "      <td>39192</td>\n",
       "      <td>0.186683</td>\n",
       "      <td>37262</td>\n",
       "      <td>1.501167</td>\n",
       "      <td>36461</td>\n",
       "      <td>0.218796</td>\n",
       "      <td>37243.0</td>\n",
       "      <td>0.059794</td>\n",
       "    </tr>\n",
       "    <tr>\n",
       "      <th>3</th>\n",
       "      <td>SGDRegressor</td>\n",
       "      <td>31603</td>\n",
       "      <td>0.106361</td>\n",
       "      <td>31603</td>\n",
       "      <td>13.044799</td>\n",
       "      <td>32694</td>\n",
       "      <td>0.029505</td>\n",
       "      <td>31587.0</td>\n",
       "      <td>0.051708</td>\n",
       "    </tr>\n",
       "    <tr>\n",
       "      <th>4</th>\n",
       "      <td>GradientBoostingRegressor</td>\n",
       "      <td>25944</td>\n",
       "      <td>2.975489</td>\n",
       "      <td>25064</td>\n",
       "      <td>335.857267</td>\n",
       "      <td>27613</td>\n",
       "      <td>171.106915</td>\n",
       "      <td>24705.0</td>\n",
       "      <td>33.705348</td>\n",
       "    </tr>\n",
       "    <tr>\n",
       "      <th>5</th>\n",
       "      <td>RandomForestRegressor</td>\n",
       "      <td>29487</td>\n",
       "      <td>8.324287</td>\n",
       "      <td>29022</td>\n",
       "      <td>664.894766</td>\n",
       "      <td>29318</td>\n",
       "      <td>321.897328</td>\n",
       "      <td>28794.0</td>\n",
       "      <td>99.421176</td>\n",
       "    </tr>\n",
       "    <tr>\n",
       "      <th>6</th>\n",
       "      <td>KNeighborsRegressor</td>\n",
       "      <td>36794</td>\n",
       "      <td>0.632640</td>\n",
       "      <td>34645</td>\n",
       "      <td>9.598487</td>\n",
       "      <td>34606</td>\n",
       "      <td>0.135799</td>\n",
       "      <td>34415.0</td>\n",
       "      <td>0.157633</td>\n",
       "    </tr>\n",
       "  </tbody>\n",
       "</table>\n",
       "</div>"
      ],
      "text/plain": [
       "                        name  cross_val_score      time cross_val_score_grid  \\\n",
       "0                      Ridge            31438  0.045692                30726   \n",
       "1                      Lasso            33008  0.728157                29985   \n",
       "2      DecisionTreeRegressor            39192  0.186683                37262   \n",
       "3               SGDRegressor            31603  0.106361                31603   \n",
       "4  GradientBoostingRegressor            25944  2.975489                25064   \n",
       "5      RandomForestRegressor            29487  8.324287                29022   \n",
       "6        KNeighborsRegressor            36794  0.632640                34645   \n",
       "\n",
       "    time_grid cross_val_score_pca    time_pca  cross_val_score_sel   time_sel  \n",
       "0    0.557386               32229    0.016664              29433.0   0.014298  \n",
       "1    5.788689               32201    0.017895              29850.0   0.079406  \n",
       "2    1.501167               36461    0.218796              37243.0   0.059794  \n",
       "3   13.044799               32694    0.029505              31587.0   0.051708  \n",
       "4  335.857267               27613  171.106915              24705.0  33.705348  \n",
       "5  664.894766               29318  321.897328              28794.0  99.421176  \n",
       "6    9.598487               34606    0.135799              34415.0   0.157633  "
      ]
     },
     "execution_count": 118,
     "metadata": {},
     "output_type": "execute_result"
    }
   ],
   "source": [
    "res"
   ]
  },
  {
   "cell_type": "code",
   "execution_count": 121,
   "metadata": {},
   "outputs": [],
   "source": [
    "process = ['base','grid','pca','selection']\n",
    "labels = res.loc[:,'name']\n",
    "score_names = ['cross_val_score','cross_val_score_grid','cross_val_score_pca','cross_val_score_sel']"
   ]
  },
  {
   "cell_type": "code",
   "execution_count": 128,
   "metadata": {},
   "outputs": [
    {
     "data": {
      "image/png": "[encoded data removed]",
      "text/plain": [
       "<Figure size 864x576 with 1 Axes>"
      ]
     },
     "metadata": {
      "needs_background": "light"
     },
     "output_type": "display_data"
    }
   ],
   "source": [
    "plt.figure(figsize=(12,8))\n",
    "for i in range(res.shape[0]):\n",
    "    res.loc[i,score_names].plot()\n",
    "plt.legend(labels,loc=1)\n",
    "plt.ylabel('Rmse')\n",
    "plt.title(\"Improvment regressor's score\")\n",
    "plt.xticks(ticks = np.arange(4),labels=process);"
   ]
  },
  {
   "cell_type": "markdown",
   "metadata": {},
   "source": [
    "PCA method of reducing dimensions worked bad. The main reason for this is that the data has a low correlation with SalePrice. Lasso selection sligthly improved quality of prediction. Because it removed not informative features(handle with multicollinearity)."
   ]
  },
  {
   "cell_type": "code",
   "execution_count": 131,
   "metadata": {},
   "outputs": [],
   "source": [
    "X_train,X_test,y_train,y_test = train_test_split(X_selected,y)"
   ]
  },
  {
   "cell_type": "code",
   "execution_count": 134,
   "metadata": {},
   "outputs": [
    {
     "data": {
      "text/plain": [
       "GradientBoostingRegressor(learning_rate=0.01, n_estimators=2000, random_state=5)"
      ]
     },
     "execution_count": 134,
     "metadata": {},
     "output_type": "execute_result"
    }
   ],
   "source": [
    "gbr = GradientBoostingRegressor(learning_rate=0.01,n_estimators=2000,random_state=5)\n",
    "gbr.fit(X_train,y_train)"
   ]
  },
  {
   "cell_type": "code",
   "execution_count": 136,
   "metadata": {},
   "outputs": [],
   "source": [
    "prediction = gbr.predict(X_test)"
   ]
  },
  {
   "cell_type": "code",
   "execution_count": 170,
   "metadata": {},
   "outputs": [
    {
     "data": {
      "text/plain": [
       "2.9049727365506013"
      ]
     },
     "execution_count": 170,
     "metadata": {},
     "output_type": "execute_result"
    }
   ],
   "source": [
    "np.sum(np.abs((prediction - y_test)/y_test)*100)/1095"
   ]
  },
  {
   "cell_type": "code",
   "execution_count": 184,
   "metadata": {},
   "outputs": [],
   "source": [
    "mape = np.abs((prediction - y_test)/y_test)*100"
   ]
  },
  {
   "cell_type": "code",
   "execution_count": 185,
   "metadata": {},
   "outputs": [],
   "source": [
    "mape = mape.reset_index()"
   ]
  },
  {
   "cell_type": "code",
   "execution_count": 188,
   "metadata": {},
   "outputs": [],
   "source": [
    "mape.drop('index',axis=1,inplace=True)"
   ]
  },
  {
   "cell_type": "code",
   "execution_count": 191,
   "metadata": {},
   "outputs": [
    {
     "data": {
      "text/plain": [
       "<AxesSubplot:>"
      ]
     },
     "execution_count": 191,
     "metadata": {},
     "output_type": "execute_result"
    },
    {
     "data": {
      "image/png": "[encoded data removed]",
      "text/plain": [
       "<Figure size 432x288 with 1 Axes>"
      ]
     },
     "metadata": {
      "needs_background": "light"
     },
     "output_type": "display_data"
    }
   ],
   "source": [
    "mape.cumsum().plot()"
   ]
  },
  {
   "cell_type": "code",
   "execution_count": null,
   "metadata": {},
   "outputs": [],
   "source": []
  }
 ],
 "metadata": {
  "kernelspec": {
   "display_name": "Python 3",
   "language": "python",
   "name": "python3"
  },
  "language_info": {
   "codemirror_mode": {
    "name": "ipython",
    "version": 3
   },
   "file_extension": ".py",
   "mimetype": "text/x-python",
   "name": "python",
   "nbconvert_exporter": "python",
   "pygments_lexer": "ipython3",
   "version": "3.8.3"
  }
 },
 "nbformat": 4,
 "nbformat_minor": 4
}
